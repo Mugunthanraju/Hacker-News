{
 "cells": [
  {
   "cell_type": "markdown",
   "metadata": {
    "collapsed": true
   },
   "source": [
    "# Exploring Hacker News Posts\n",
    "\n",
    "*Hacker News is a site started by the startup incubator Y Combinator, where user-submitted stories (known as \"posts\") are voted and commented upon, similar to reddit. Hacker News is extremely popular in technology and startup circles, and posts that make it to the top of Hacker News' listings can get hundreds of thousands of visitors as a result.*\n",
    "\n",
    "**Here we going to explore the data of Hackers News Posts and analyse**"
   ]
  },
  {
   "cell_type": "code",
   "execution_count": 1,
   "metadata": {},
   "outputs": [],
   "source": [
    "from csv import reader\n",
    "open_file=open('hacker_news.csv')\n",
    "read_file=reader(open_file)\n",
    "hn=list(read_file)"
   ]
  },
  {
   "cell_type": "code",
   "execution_count": 2,
   "metadata": {},
   "outputs": [
    {
     "data": {
      "text/plain": "[['id', 'title', 'url', 'num_points', 'num_comments', 'author', 'created_at'],\n ['12224879',\n  'Interactive Dynamic Video',\n  'http://www.interactivedynamicvideo.com/',\n  '386',\n  '52',\n  'ne0phyte',\n  '8/4/2016 11:52'],\n ['10975351',\n  'How to Use Open Source and Shut the Fuck Up at the Same Time',\n  'http://hueniverse.com/2016/01/26/how-to-use-open-source-and-shut-the-fuck-up-at-the-same-time/',\n  '39',\n  '10',\n  'josep2',\n  '1/26/2016 19:30'],\n ['11964716',\n  \"Florida DJs May Face Felony for April Fools' Water Joke\",\n  'http://www.thewire.com/entertainment/2013/04/florida-djs-april-fools-water-joke/63798/',\n  '2',\n  '1',\n  'vezycash',\n  '6/23/2016 22:20'],\n ['11919867',\n  'Technology ventures: From Idea to Enterprise',\n  'https://www.amazon.com/Technology-Ventures-Enterprise-Thomas-Byers/dp/0073523429',\n  '3',\n  '1',\n  'hswarna',\n  '6/17/2016 0:01']]"
     },
     "execution_count": 2,
     "metadata": {},
     "output_type": "execute_result"
    }
   ],
   "source": [
    "hn[:5]"
   ]
  },
  {
   "cell_type": "markdown",
   "metadata": {},
   "source": [
    "**We had printed only five(5) rows of values from `hn` above.**"
   ]
  },
  {
   "cell_type": "markdown",
   "metadata": {},
   "source": [
    "*Now I'm going to Seperate/Remove the Header from `hn` and assing it to the variable `headers`.*"
   ]
  },
  {
   "cell_type": "code",
   "execution_count": 3,
   "metadata": {},
   "outputs": [
    {
     "data": {
      "text/plain": "[['id', 'title', 'url', 'num_points', 'num_comments', 'author', 'created_at']]"
     },
     "execution_count": 3,
     "metadata": {},
     "output_type": "execute_result"
    }
   ],
   "source": [
    "headers=hn[:1]\n",
    "hn=hn[1:]\n",
    "\n",
    "headers"
   ]
  },
  {
   "cell_type": "markdown",
   "metadata": {},
   "source": [
    "# Segregating Ask, Show and Other posts"
   ]
  },
  {
   "cell_type": "code",
   "execution_count": 4,
   "metadata": {},
   "outputs": [],
   "source": [
    "ask_posts=[]\n",
    "show_posts=[]\n",
    "other_posts=[]\n",
    "for row in hn:\n",
    "    title=row[1]\n",
    "    title1=title.lower()\n",
    "    if title1.startswith('ask hn'):\n",
    "        ask_posts.append(row)\n",
    "    elif title1.startswith('show hn'):\n",
    "        show_posts.append(row)\n",
    "    else: other_posts.append(row)"
   ]
  },
  {
   "cell_type": "code",
   "execution_count": 5,
   "metadata": {},
   "outputs": [
    {
     "name": "stdout",
     "output_type": "stream",
     "text": "1744\n1162\n17194\n"
    }
   ],
   "source": [
    "print(len(ask_posts))\n",
    "print(len(show_posts))\n",
    "print(len(other_posts))"
   ]
  },
  {
   "cell_type": "code",
   "execution_count": 6,
   "metadata": {},
   "outputs": [
    {
     "data": {
      "text/plain": "[['12296411',\n  'Ask HN: How to improve my personal website?',\n  '',\n  '2',\n  '6',\n  'ahmedbaracat',\n  '8/16/2016 9:55'],\n ['10610020',\n  'Ask HN: Am I the only one outraged by Twitter shutting down share counts?',\n  '',\n  '28',\n  '29',\n  'tkfx',\n  '11/22/2015 13:43'],\n ['11610310',\n  'Ask HN: Aby recent changes to CSS that broke mobile?',\n  '',\n  '1',\n  '1',\n  'polskibus',\n  '5/2/2016 10:14'],\n ['12210105',\n  'Ask HN: Looking for Employee #3 How do I do it?',\n  '',\n  '1',\n  '3',\n  'sph130',\n  '8/2/2016 14:20'],\n ['10394168',\n  'Ask HN: Someone offered to buy my browser extension from me. What now?',\n  '',\n  '28',\n  '17',\n  'roykolak',\n  '10/15/2015 16:38']]"
     },
     "execution_count": 6,
     "metadata": {},
     "output_type": "execute_result"
    }
   ],
   "source": [
    "ask_posts[:5]"
   ]
  },
  {
   "cell_type": "code",
   "execution_count": 7,
   "metadata": {},
   "outputs": [
    {
     "data": {
      "text/plain": "[['10627194',\n  'Show HN: Wio Link  ESP8266 Based Web of Things Hardware Development Platform',\n  'https://iot.seeed.cc',\n  '26',\n  '22',\n  'kfihihc',\n  '11/25/2015 14:03'],\n ['10646440',\n  'Show HN: Something pointless I made',\n  'http://dn.ht/picklecat/',\n  '747',\n  '102',\n  'dhotson',\n  '11/29/2015 22:46'],\n ['11590768',\n  'Show HN: Shanhu.io, a programming playground powered by e8vm',\n  'https://shanhu.io',\n  '1',\n  '1',\n  'h8liu',\n  '4/28/2016 18:05'],\n ['12178806',\n  'Show HN: Webscope  Easy way for web developers to communicate with Clients',\n  'http://webscopeapp.com',\n  '3',\n  '3',\n  'fastbrick',\n  '7/28/2016 7:11'],\n ['10872799',\n  'Show HN: GeoScreenshot  Easily test Geo-IP based web pages',\n  'https://www.geoscreenshot.com/',\n  '1',\n  '9',\n  'kpsychwave',\n  '1/9/2016 20:45']]"
     },
     "execution_count": 7,
     "metadata": {},
     "output_type": "execute_result"
    }
   ],
   "source": [
    "show_posts[:5]"
   ]
  },
  {
   "cell_type": "markdown",
   "metadata": {},
   "source": [
    "**Our analysis shows that the posts with title that begins with `Ask HN` has more comments on the average than posts whose title beins with `Show HN`.**\n",
    "\n",
    "This means that when you ask the `Hacker News` community a question, you'll get more responses (maybe answers to your question) to when you are just showing them a product or project.\n",
    "\n",
    "Since ask posts are more likely to recieve comments, we'll focus our remaining analysis on these posts.\n",
    "\n",
    "Our next task is to determine if ask posts created at a certain time are more likely to attract comments.\n",
    "\n",
    "*We'll use the following steps:*\n",
    "\n",
    "1. Calculate the amount of ask posts created in each hour of the day, along with the number of comments received.\n",
    "\n",
    "2. Calculae the average number of comments ask posts receive by hour created."
   ]
  },
  {
   "cell_type": "markdown",
   "metadata": {},
   "source": [
    "# Now, To calculate average comments"
   ]
  },
  {
   "cell_type": "code",
   "execution_count": 8,
   "metadata": {},
   "outputs": [],
   "source": [
    "total_ask_comments=0\n",
    "for row in ask_posts:\n",
    "    comment=int(row[4])\n",
    "    total_ask_comments+=comment\n",
    "avg_ask_comments=total_ask_comments/len(ask_posts)"
   ]
  },
  {
   "cell_type": "code",
   "execution_count": 9,
   "metadata": {},
   "outputs": [
    {
     "name": "stdout",
     "output_type": "stream",
     "text": "14.038417431192661\n"
    }
   ],
   "source": [
    "print(avg_ask_comments)"
   ]
  },
  {
   "cell_type": "code",
   "execution_count": 10,
   "metadata": {},
   "outputs": [],
   "source": [
    "total_show_comments=0\n",
    "for row in show_posts:\n",
    "    comment_show=int(row[4])\n",
    "    total_show_comments+=comment_show\n",
    "avg_show_comments=total_show_comments/len(show_posts)"
   ]
  },
  {
   "cell_type": "code",
   "execution_count": 11,
   "metadata": {},
   "outputs": [
    {
     "name": "stdout",
     "output_type": "stream",
     "text": "10.31669535283993\n"
    }
   ],
   "source": [
    "print(avg_show_comments)"
   ]
  },
  {
   "cell_type": "code",
   "execution_count": 12,
   "metadata": {},
   "outputs": [],
   "source": [
    "import datetime as dt\n",
    "result_list=[]\n",
    "for i in ask_posts:\n",
    "    result_list.append([i[6], int(i[4])])"
   ]
  },
  {
   "cell_type": "code",
   "execution_count": 13,
   "metadata": {},
   "outputs": [
    {
     "data": {
      "text/plain": "[['8/16/2016 9:55', 6],\n ['11/22/2015 13:43', 29],\n ['5/2/2016 10:14', 1],\n ['8/2/2016 14:20', 3],\n ['10/15/2015 16:38', 17]]"
     },
     "execution_count": 13,
     "metadata": {},
     "output_type": "execute_result"
    }
   ],
   "source": [
    "result_list[:5]"
   ]
  },
  {
   "cell_type": "markdown",
   "metadata": {},
   "source": [
    "**We are going to extact the data for following different suitations below:**\n",
    "\n",
    "1. The number of ask posts created during each hour of the day and assign it to `counts_by_hour` dictionary.\n",
    "\n",
    "2. The corresponding number of comments ask posts created at each hour received and assign it to `comments_by_hour` dictionary."
   ]
  },
  {
   "cell_type": "code",
   "execution_count": 14,
   "metadata": {},
   "outputs": [],
   "source": [
    "counts_by_hour = {}\n",
    "comments_by_hour = {}\n",
    "\n",
    "date_format = \"%m/%d/%Y %H:%M\"\n",
    "\n",
    "for row in result_list:\n",
    "    date = row[0]\n",
    "    comment = row[1]\n",
    "    time = dt.datetime.strptime(date, date_format).strftime(\"%H\")\n",
    "    if time in counts_by_hour:\n",
    "        counts_by_hour[time] += 1\n",
    "        comments_by_hour[time] += comment\n",
    "    else:\n",
    "        counts_by_hour[time] = 1\n",
    "        comments_by_hour[time] = comment"
   ]
  },
  {
   "cell_type": "code",
   "execution_count": 15,
   "metadata": {},
   "outputs": [
    {
     "data": {
      "text/plain": "{'09': 45,\n '13': 85,\n '10': 59,\n '14': 107,\n '16': 108,\n '23': 68,\n '12': 73,\n '17': 100,\n '15': 116,\n '21': 109,\n '20': 80,\n '02': 58,\n '18': 109,\n '03': 54,\n '05': 46,\n '19': 110,\n '01': 60,\n '22': 71,\n '08': 48,\n '04': 47,\n '00': 55,\n '06': 44,\n '07': 34,\n '11': 58}"
     },
     "execution_count": 15,
     "metadata": {},
     "output_type": "execute_result"
    }
   ],
   "source": [
    "counts_by_hour"
   ]
  },
  {
   "cell_type": "code",
   "execution_count": 16,
   "metadata": {},
   "outputs": [
    {
     "data": {
      "text/plain": "{'09': 251,\n '13': 1253,\n '10': 793,\n '14': 1416,\n '16': 1814,\n '23': 543,\n '12': 687,\n '17': 1146,\n '15': 4477,\n '21': 1745,\n '20': 1722,\n '02': 1381,\n '18': 1439,\n '03': 421,\n '05': 464,\n '19': 1188,\n '01': 683,\n '22': 479,\n '08': 492,\n '04': 337,\n '00': 447,\n '06': 397,\n '07': 267,\n '11': 641}"
     },
     "execution_count": 16,
     "metadata": {},
     "output_type": "execute_result"
    }
   ],
   "source": [
    "comments_by_hour"
   ]
  },
  {
   "cell_type": "markdown",
   "metadata": {},
   "source": [
    "# Calculating the average for comments by hours."
   ]
  },
  {
   "cell_type": "code",
   "execution_count": 17,
   "metadata": {},
   "outputs": [],
   "source": [
    "avg_by_hour = []\n",
    "for hr in comments_by_hour:\n",
    "    avg_by_hour.append([hr, comments_by_hour[hr] / counts_by_hour[hr]])"
   ]
  },
  {
   "cell_type": "code",
   "execution_count": 18,
   "metadata": {},
   "outputs": [
    {
     "data": {
      "text/plain": "[['09', 5.5777777777777775],\n ['13', 14.741176470588234],\n ['10', 13.440677966101696],\n ['14', 13.233644859813085],\n ['16', 16.796296296296298],\n ['23', 7.985294117647059],\n ['12', 9.41095890410959],\n ['17', 11.46],\n ['15', 38.5948275862069],\n ['21', 16.009174311926607],\n ['20', 21.525],\n ['02', 23.810344827586206],\n ['18', 13.20183486238532],\n ['03', 7.796296296296297],\n ['05', 10.08695652173913],\n ['19', 10.8],\n ['01', 11.383333333333333],\n ['22', 6.746478873239437],\n ['08', 10.25],\n ['04', 7.170212765957447],\n ['00', 8.127272727272727],\n ['06', 9.022727272727273],\n ['07', 7.852941176470588],\n ['11', 11.051724137931034]]"
     },
     "execution_count": 18,
     "metadata": {},
     "output_type": "execute_result"
    }
   ],
   "source": [
    "avg_by_hour"
   ]
  },
  {
   "cell_type": "markdown",
   "metadata": {},
   "source": [
    "**Swapping of `avg_by_hour`.**"
   ]
  },
  {
   "cell_type": "code",
   "execution_count": 19,
   "metadata": {},
   "outputs": [
    {
     "data": {
      "text/plain": "[[5.5777777777777775, '09'],\n [14.741176470588234, '13'],\n [13.440677966101696, '10'],\n [13.233644859813085, '14'],\n [16.796296296296298, '16'],\n [7.985294117647059, '23'],\n [9.41095890410959, '12'],\n [11.46, '17'],\n [38.5948275862069, '15'],\n [16.009174311926607, '21'],\n [21.525, '20'],\n [23.810344827586206, '02'],\n [13.20183486238532, '18'],\n [7.796296296296297, '03'],\n [10.08695652173913, '05'],\n [10.8, '19'],\n [11.383333333333333, '01'],\n [6.746478873239437, '22'],\n [10.25, '08'],\n [7.170212765957447, '04'],\n [8.127272727272727, '00'],\n [9.022727272727273, '06'],\n [7.852941176470588, '07'],\n [11.051724137931034, '11']]"
     },
     "execution_count": 19,
     "metadata": {},
     "output_type": "execute_result"
    }
   ],
   "source": [
    "swap_avg_by_hour=[]\n",
    "for row in avg_by_hour:\n",
    "    swap_avg_by_hour.append([row[1], row[0]])\n",
    "swap_avg_by_hour"
   ]
  },
  {
   "cell_type": "markdown",
   "metadata": {},
   "source": [
    "**Sorting the swapped `avg_by_hour`.**"
   ]
  },
  {
   "cell_type": "code",
   "execution_count": 20,
   "metadata": {},
   "outputs": [],
   "source": [
    "sorted_swap = sorted(swap_avg_by_hour, reverse=True)"
   ]
  },
  {
   "cell_type": "code",
   "execution_count": 21,
   "metadata": {},
   "outputs": [
    {
     "data": {
      "text/plain": "[[38.5948275862069, '15'],\n [23.810344827586206, '02'],\n [21.525, '20'],\n [16.796296296296298, '16'],\n [16.009174311926607, '21'],\n [14.741176470588234, '13'],\n [13.440677966101696, '10'],\n [13.233644859813085, '14'],\n [13.20183486238532, '18'],\n [11.46, '17'],\n [11.383333333333333, '01'],\n [11.051724137931034, '11'],\n [10.8, '19'],\n [10.25, '08'],\n [10.08695652173913, '05'],\n [9.41095890410959, '12'],\n [9.022727272727273, '06'],\n [8.127272727272727, '00'],\n [7.985294117647059, '23'],\n [7.852941176470588, '07'],\n [7.796296296296297, '03'],\n [7.170212765957447, '04'],\n [6.746478873239437, '22'],\n [5.5777777777777775, '09']]"
     },
     "execution_count": 21,
     "metadata": {},
     "output_type": "execute_result"
    }
   ],
   "source": [
    "sorted_swap"
   ]
  },
  {
   "cell_type": "code",
   "execution_count": 22,
   "metadata": {},
   "outputs": [
    {
     "name": "stdout",
     "output_type": "stream",
     "text": "Top 5 Hours for 'Ask HN' Comments\n\n\n15:00: 38.59 average comments per post\n\n02:00: 23.81 average comments per post\n\n20:00: 21.52 average comments per post\n\n16:00: 16.80 average comments per post\n\n21:00: 16.01 average comments per post\n\n"
    }
   ],
   "source": [
    "print(\"Top 5 Hours for 'Ask HN' Comments\\n\\n\")\n",
    "for avg, hr in sorted_swap[:5]:\n",
    "    print(\n",
    "        \"{}: {:.2f} average comments per post\\n\".format(\n",
    "            dt.datetime.strptime(hr, \"%H\").strftime(\"%H:%M\"),avg\n",
    "        )\n",
    "    )"
   ]
  },
  {
   "cell_type": "markdown",
   "metadata": {},
   "source": [
    "**My analysis shows that there's a higher chance of receiving comments if you create a post between 15:00-21:00hrs (i.e 3pm-9pm).**\n",
    "\n",
    "*From 15:00, most people have started rounding up business for the day, so it makes sense to believe they've got time for the community till about 21:00 (9pm) when it willbe time to go to bed.*\n",
    "\n",
    "`Although the 02:00hr (2am) mark looks favorably, i wouldn't advise it because it may just be sheer luck. Especially since there's no other time frame close to it in the top 5 comments per hour.`"
   ]
  }
 ],
 "metadata": {
  "kernelspec": {
   "display_name": "Python 3",
   "language": "python",
   "name": "python3"
  },
  "language_info": {
   "codemirror_mode": {
    "name": "ipython",
    "version": 3
   },
   "file_extension": ".py",
   "mimetype": "text/x-python",
   "name": "python",
   "nbconvert_exporter": "python",
   "pygments_lexer": "ipython3",
   "version": "3.7.6-final"
  }
 },
 "nbformat": 4,
 "nbformat_minor": 2
}